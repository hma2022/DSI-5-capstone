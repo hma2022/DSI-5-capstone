{
 "cells": [
  {
   "cell_type": "markdown",
   "metadata": {},
   "source": [
    "### Importing Libraries"
   ]
  },
  {
   "cell_type": "code",
   "execution_count": null,
   "metadata": {},
   "outputs": [],
   "source": [
    "# pip install arrow"
   ]
  },
  {
   "cell_type": "code",
   "execution_count": 129,
   "metadata": {},
   "outputs": [],
   "source": [
    "# Importing needed libraries\n",
    "from datetime import datetime\n",
    "import time\n",
    "from datetime import timedelta\n",
    "import arrow\n",
    "import pandas as pd\n",
    "import ast"
   ]
  },
  {
   "cell_type": "markdown",
   "metadata": {},
   "source": [
    "### Creating Unix Time format for each hour"
   ]
  },
  {
   "cell_type": "code",
   "execution_count": 1,
   "metadata": {},
   "outputs": [],
   "source": [
    "# Preparing Unix Time format\n",
    "unix_daily_time=[]\n",
    "start_time=1325365200\n",
    "inc_time=86400\n",
    "end_time=1546203600"
   ]
  },
  {
   "cell_type": "code",
   "execution_count": 460,
   "metadata": {},
   "outputs": [],
   "source": [
    "# Creating a unix time for each hour starting 2012-01-01 01:00:00 to 2018-12-31 23:00:00\n",
    "i=start_time\n",
    "while i <  end_time:\n",
    "    unix_daily_time.append(i)\n",
    "    i = i +  inc_time\n",
    "\n",
    "\n",
    "unix_daily_time.append(1546203600)  # appending last date 31-12-2018 time 12:00:00 AM  since it was not included in the loop"
   ]
  },
  {
   "cell_type": "code",
   "execution_count": 462,
   "metadata": {},
   "outputs": [
    {
     "data": {
      "text/plain": [
       "2557"
      ]
     },
     "execution_count": 462,
     "metadata": {},
     "output_type": "execute_result"
    }
   ],
   "source": [
    "len(unix_daily_time)"
   ]
  },
  {
   "cell_type": "code",
   "execution_count": null,
   "metadata": {},
   "outputs": [],
   "source": [
    "### Calling"
   ]
  },
  {
   "cell_type": "code",
   "execution_count": 2,
   "metadata": {},
   "outputs": [],
   "source": [
    "# making Rapidapi connection with Dark Sky api key\n",
    "# site https://rapidapi.com/darkskyapis/api/dark-sky?endpoint=apiendpoint_988760f1-8430-4703-b392-b51126c5c9ae\n",
    "\n",
    "import http.client\n",
    "\n",
    "conn = http.client.HTTPSConnection(\"dark-sky.p.rapidapi.com\")\n",
    "\n",
    "headers = {\n",
    "    'x-rapidapi-host': \"dark-sky.p.rapidapi.com\",\n",
    "    'x-rapidapi-key': \"89162304famshf5xxxxxxxxxxxxxxxxxxxxxxxxxxxxxxxxx\"  #api-key is hidden intentionally :)\n",
    "    }\n"
   ]
  },
  {
   "cell_type": "code",
   "execution_count": 466,
   "metadata": {},
   "outputs": [],
   "source": [
    "# creating two empty lists for temperatures decoded and non-decoded\n",
    "temp_decode=[]\n",
    "temp_nodecode=[]"
   ]
  },
  {
   "cell_type": "code",
   "execution_count": 467,
   "metadata": {},
   "outputs": [],
   "source": [
    "# Calling the api and getting the hourly temperature data for Riyadh City (Central Operating Area)\n",
    "# Riyadh Latitude\t24.774265\n",
    "# Riyadh Longitude\t46.738586\n",
    "\n",
    "\n",
    "for i in unix_daily_time:\n",
    "    conn.request(\"GET\", f\"/24.774265,46.738586,{i}?units=si\", headers=headers)\n",
    "    res = conn.getresponse()\n",
    "    data = res.read()\n",
    "    temp_nodecode.append(data)\n",
    "    temp_decode.append(data.decode(\"utf-8\"))\n"
   ]
  },
  {
   "cell_type": "code",
   "execution_count": 472,
   "metadata": {},
   "outputs": [
    {
     "data": {
      "text/plain": [
       "2557"
      ]
     },
     "execution_count": 472,
     "metadata": {},
     "output_type": "execute_result"
    }
   ],
   "source": [
    "len(temp_decode)"
   ]
  },
  {
   "cell_type": "code",
   "execution_count": 231,
   "metadata": {},
   "outputs": [
    {
     "data": {
      "text/plain": [
       "2557"
      ]
     },
     "execution_count": 231,
     "metadata": {},
     "output_type": "execute_result"
    }
   ],
   "source": [
    "len(temp_nodecode)"
   ]
  },
  {
   "cell_type": "code",
   "execution_count": 276,
   "metadata": {},
   "outputs": [],
   "source": [
    "# getting the columns\n",
    "columns_=df.columns"
   ]
  },
  {
   "cell_type": "code",
   "execution_count": 474,
   "metadata": {},
   "outputs": [],
   "source": [
    "# Creating column lists from the dataset\n",
    "columns_=['time', 'temperature', 'apparentTemperature', 'dewPoint', 'humidity',\n",
    "       'pressure', 'windSpeed', 'windBearing', 'cloudCover', 'uvIndex',\n",
    "       'visibility']"
   ]
  },
  {
   "cell_type": "code",
   "execution_count": 475,
   "metadata": {},
   "outputs": [],
   "source": [
    "# Creating empty dataframe\n",
    "df_weather=pd.DataFrame(columns=columns_)"
   ]
  },
  {
   "cell_type": "code",
   "execution_count": 476,
   "metadata": {},
   "outputs": [
    {
     "data": {
      "text/html": [
       "<div>\n",
       "<style scoped>\n",
       "    .dataframe tbody tr th:only-of-type {\n",
       "        vertical-align: middle;\n",
       "    }\n",
       "\n",
       "    .dataframe tbody tr th {\n",
       "        vertical-align: top;\n",
       "    }\n",
       "\n",
       "    .dataframe thead th {\n",
       "        text-align: right;\n",
       "    }\n",
       "</style>\n",
       "<table border=\"1\" class=\"dataframe\">\n",
       "  <thead>\n",
       "    <tr style=\"text-align: right;\">\n",
       "      <th></th>\n",
       "      <th>time</th>\n",
       "      <th>temperature</th>\n",
       "      <th>apparentTemperature</th>\n",
       "      <th>dewPoint</th>\n",
       "      <th>humidity</th>\n",
       "      <th>pressure</th>\n",
       "      <th>windSpeed</th>\n",
       "      <th>windBearing</th>\n",
       "      <th>cloudCover</th>\n",
       "      <th>uvIndex</th>\n",
       "      <th>visibility</th>\n",
       "    </tr>\n",
       "  </thead>\n",
       "  <tbody>\n",
       "  </tbody>\n",
       "</table>\n",
       "</div>"
      ],
      "text/plain": [
       "Empty DataFrame\n",
       "Columns: [time, temperature, apparentTemperature, dewPoint, humidity, pressure, windSpeed, windBearing, cloudCover, uvIndex, visibility]\n",
       "Index: []"
      ]
     },
     "execution_count": 476,
     "metadata": {},
     "output_type": "execute_result"
    }
   ],
   "source": [
    "df_weather"
   ]
  },
  {
   "cell_type": "code",
   "execution_count": 477,
   "metadata": {},
   "outputs": [],
   "source": [
    "# import ast\n",
    "# getting the hourly data from temp_decode list and append them to df_weather dataframe\n",
    "for i in temp_decode:\n",
    "    df=pd.DataFrame(ast.literal_eval(i.strip('\\n')).get('hourly')['data'])\n",
    "    df_weather=df_weather.append(df, ignore_index = True,sort=False) \n",
    "    \n"
   ]
  },
  {
   "cell_type": "code",
   "execution_count": 482,
   "metadata": {},
   "outputs": [
    {
     "data": {
      "text/plain": [
       "(61241, 18)"
      ]
     },
     "execution_count": 482,
     "metadata": {},
     "output_type": "execute_result"
    }
   ],
   "source": [
    "df_weather.shape"
   ]
  },
  {
   "cell_type": "code",
   "execution_count": 483,
   "metadata": {
    "scrolled": true
   },
   "outputs": [
    {
     "data": {
      "text/plain": [
       "time                       0\n",
       "temperature                0\n",
       "apparentTemperature        0\n",
       "dewPoint                   0\n",
       "humidity                   0\n",
       "pressure               42095\n",
       "windSpeed                 20\n",
       "windBearing             7587\n",
       "cloudCover             31654\n",
       "uvIndex                14272\n",
       "visibility               244\n",
       "windGust               59762\n",
       "summary                32941\n",
       "icon                   32941\n",
       "precipIntensity         5548\n",
       "precipProbability       5548\n",
       "precipType             61193\n",
       "ozone                  60485\n",
       "dtype: int64"
      ]
     },
     "execution_count": 483,
     "metadata": {},
     "output_type": "execute_result"
    }
   ],
   "source": [
    "# Checking null values\n",
    "# the most importing value is for temperature and it does not have any null value.\n",
    "df_weather.isnull().sum()"
   ]
  },
  {
   "cell_type": "code",
   "execution_count": 484,
   "metadata": {
    "scrolled": true
   },
   "outputs": [
    {
     "data": {
      "text/html": [
       "<div>\n",
       "<style scoped>\n",
       "    .dataframe tbody tr th:only-of-type {\n",
       "        vertical-align: middle;\n",
       "    }\n",
       "\n",
       "    .dataframe tbody tr th {\n",
       "        vertical-align: top;\n",
       "    }\n",
       "\n",
       "    .dataframe thead th {\n",
       "        text-align: right;\n",
       "    }\n",
       "</style>\n",
       "<table border=\"1\" class=\"dataframe\">\n",
       "  <thead>\n",
       "    <tr style=\"text-align: right;\">\n",
       "      <th></th>\n",
       "      <th>time</th>\n",
       "      <th>temperature</th>\n",
       "      <th>apparentTemperature</th>\n",
       "      <th>dewPoint</th>\n",
       "      <th>humidity</th>\n",
       "      <th>pressure</th>\n",
       "      <th>windSpeed</th>\n",
       "      <th>windBearing</th>\n",
       "      <th>cloudCover</th>\n",
       "      <th>uvIndex</th>\n",
       "      <th>visibility</th>\n",
       "      <th>windGust</th>\n",
       "      <th>summary</th>\n",
       "      <th>icon</th>\n",
       "      <th>precipIntensity</th>\n",
       "      <th>precipProbability</th>\n",
       "      <th>precipType</th>\n",
       "      <th>ozone</th>\n",
       "    </tr>\n",
       "  </thead>\n",
       "  <tbody>\n",
       "    <tr>\n",
       "      <td>0</td>\n",
       "      <td>1325365200</td>\n",
       "      <td>14.98</td>\n",
       "      <td>14.98</td>\n",
       "      <td>0.01</td>\n",
       "      <td>0.36</td>\n",
       "      <td>1017.9</td>\n",
       "      <td>4.12</td>\n",
       "      <td>161.0</td>\n",
       "      <td>0.13</td>\n",
       "      <td>0.0</td>\n",
       "      <td>9.988</td>\n",
       "      <td>NaN</td>\n",
       "      <td>NaN</td>\n",
       "      <td>NaN</td>\n",
       "      <td>NaN</td>\n",
       "      <td>NaN</td>\n",
       "      <td>NaN</td>\n",
       "      <td>NaN</td>\n",
       "    </tr>\n",
       "    <tr>\n",
       "      <td>1</td>\n",
       "      <td>1325368800</td>\n",
       "      <td>13.98</td>\n",
       "      <td>13.98</td>\n",
       "      <td>0.01</td>\n",
       "      <td>0.38</td>\n",
       "      <td>NaN</td>\n",
       "      <td>3.09</td>\n",
       "      <td>170.0</td>\n",
       "      <td>NaN</td>\n",
       "      <td>0.0</td>\n",
       "      <td>9.988</td>\n",
       "      <td>NaN</td>\n",
       "      <td>NaN</td>\n",
       "      <td>NaN</td>\n",
       "      <td>NaN</td>\n",
       "      <td>NaN</td>\n",
       "      <td>NaN</td>\n",
       "      <td>NaN</td>\n",
       "    </tr>\n",
       "    <tr>\n",
       "      <td>2</td>\n",
       "      <td>1325372400</td>\n",
       "      <td>11.98</td>\n",
       "      <td>11.98</td>\n",
       "      <td>0.99</td>\n",
       "      <td>0.47</td>\n",
       "      <td>NaN</td>\n",
       "      <td>2.06</td>\n",
       "      <td>131.0</td>\n",
       "      <td>NaN</td>\n",
       "      <td>0.0</td>\n",
       "      <td>9.988</td>\n",
       "      <td>NaN</td>\n",
       "      <td>NaN</td>\n",
       "      <td>NaN</td>\n",
       "      <td>NaN</td>\n",
       "      <td>NaN</td>\n",
       "      <td>NaN</td>\n",
       "      <td>NaN</td>\n",
       "    </tr>\n",
       "    <tr>\n",
       "      <td>3</td>\n",
       "      <td>1325376000</td>\n",
       "      <td>11.98</td>\n",
       "      <td>11.98</td>\n",
       "      <td>0.99</td>\n",
       "      <td>0.47</td>\n",
       "      <td>1017.0</td>\n",
       "      <td>2.06</td>\n",
       "      <td>131.0</td>\n",
       "      <td>0.00</td>\n",
       "      <td>0.0</td>\n",
       "      <td>NaN</td>\n",
       "      <td>NaN</td>\n",
       "      <td>NaN</td>\n",
       "      <td>NaN</td>\n",
       "      <td>NaN</td>\n",
       "      <td>NaN</td>\n",
       "      <td>NaN</td>\n",
       "      <td>NaN</td>\n",
       "    </tr>\n",
       "    <tr>\n",
       "      <td>4</td>\n",
       "      <td>1325379600</td>\n",
       "      <td>11.98</td>\n",
       "      <td>11.98</td>\n",
       "      <td>0.01</td>\n",
       "      <td>0.44</td>\n",
       "      <td>NaN</td>\n",
       "      <td>2.06</td>\n",
       "      <td>170.0</td>\n",
       "      <td>NaN</td>\n",
       "      <td>0.0</td>\n",
       "      <td>NaN</td>\n",
       "      <td>NaN</td>\n",
       "      <td>NaN</td>\n",
       "      <td>NaN</td>\n",
       "      <td>NaN</td>\n",
       "      <td>NaN</td>\n",
       "      <td>NaN</td>\n",
       "      <td>NaN</td>\n",
       "    </tr>\n",
       "    <tr>\n",
       "      <td>5</td>\n",
       "      <td>1325383200</td>\n",
       "      <td>11.98</td>\n",
       "      <td>11.98</td>\n",
       "      <td>0.01</td>\n",
       "      <td>0.44</td>\n",
       "      <td>NaN</td>\n",
       "      <td>3.60</td>\n",
       "      <td>170.0</td>\n",
       "      <td>NaN</td>\n",
       "      <td>0.0</td>\n",
       "      <td>NaN</td>\n",
       "      <td>NaN</td>\n",
       "      <td>NaN</td>\n",
       "      <td>NaN</td>\n",
       "      <td>NaN</td>\n",
       "      <td>NaN</td>\n",
       "      <td>NaN</td>\n",
       "      <td>NaN</td>\n",
       "    </tr>\n",
       "    <tr>\n",
       "      <td>6</td>\n",
       "      <td>1325386800</td>\n",
       "      <td>11.98</td>\n",
       "      <td>11.98</td>\n",
       "      <td>0.01</td>\n",
       "      <td>0.44</td>\n",
       "      <td>1017.6</td>\n",
       "      <td>2.06</td>\n",
       "      <td>161.0</td>\n",
       "      <td>0.00</td>\n",
       "      <td>0.0</td>\n",
       "      <td>NaN</td>\n",
       "      <td>NaN</td>\n",
       "      <td>NaN</td>\n",
       "      <td>NaN</td>\n",
       "      <td>NaN</td>\n",
       "      <td>NaN</td>\n",
       "      <td>NaN</td>\n",
       "      <td>NaN</td>\n",
       "    </tr>\n",
       "    <tr>\n",
       "      <td>7</td>\n",
       "      <td>1325390400</td>\n",
       "      <td>10.97</td>\n",
       "      <td>10.97</td>\n",
       "      <td>0.01</td>\n",
       "      <td>0.47</td>\n",
       "      <td>NaN</td>\n",
       "      <td>2.06</td>\n",
       "      <td>150.0</td>\n",
       "      <td>NaN</td>\n",
       "      <td>NaN</td>\n",
       "      <td>NaN</td>\n",
       "      <td>NaN</td>\n",
       "      <td>NaN</td>\n",
       "      <td>NaN</td>\n",
       "      <td>NaN</td>\n",
       "      <td>NaN</td>\n",
       "      <td>NaN</td>\n",
       "      <td>NaN</td>\n",
       "    </tr>\n",
       "    <tr>\n",
       "      <td>8</td>\n",
       "      <td>1325394000</td>\n",
       "      <td>12.98</td>\n",
       "      <td>12.98</td>\n",
       "      <td>0.99</td>\n",
       "      <td>0.44</td>\n",
       "      <td>NaN</td>\n",
       "      <td>0.00</td>\n",
       "      <td>NaN</td>\n",
       "      <td>NaN</td>\n",
       "      <td>NaN</td>\n",
       "      <td>NaN</td>\n",
       "      <td>NaN</td>\n",
       "      <td>NaN</td>\n",
       "      <td>NaN</td>\n",
       "      <td>NaN</td>\n",
       "      <td>NaN</td>\n",
       "      <td>NaN</td>\n",
       "      <td>NaN</td>\n",
       "    </tr>\n",
       "    <tr>\n",
       "      <td>9</td>\n",
       "      <td>1325397600</td>\n",
       "      <td>15.98</td>\n",
       "      <td>15.98</td>\n",
       "      <td>-1.01</td>\n",
       "      <td>0.31</td>\n",
       "      <td>1018.9</td>\n",
       "      <td>1.55</td>\n",
       "      <td>180.0</td>\n",
       "      <td>0.00</td>\n",
       "      <td>2.0</td>\n",
       "      <td>NaN</td>\n",
       "      <td>NaN</td>\n",
       "      <td>NaN</td>\n",
       "      <td>NaN</td>\n",
       "      <td>NaN</td>\n",
       "      <td>NaN</td>\n",
       "      <td>NaN</td>\n",
       "      <td>NaN</td>\n",
       "    </tr>\n",
       "  </tbody>\n",
       "</table>\n",
       "</div>"
      ],
      "text/plain": [
       "         time  temperature  apparentTemperature  dewPoint  humidity  pressure  \\\n",
       "0  1325365200        14.98                14.98      0.01      0.36    1017.9   \n",
       "1  1325368800        13.98                13.98      0.01      0.38       NaN   \n",
       "2  1325372400        11.98                11.98      0.99      0.47       NaN   \n",
       "3  1325376000        11.98                11.98      0.99      0.47    1017.0   \n",
       "4  1325379600        11.98                11.98      0.01      0.44       NaN   \n",
       "5  1325383200        11.98                11.98      0.01      0.44       NaN   \n",
       "6  1325386800        11.98                11.98      0.01      0.44    1017.6   \n",
       "7  1325390400        10.97                10.97      0.01      0.47       NaN   \n",
       "8  1325394000        12.98                12.98      0.99      0.44       NaN   \n",
       "9  1325397600        15.98                15.98     -1.01      0.31    1018.9   \n",
       "\n",
       "   windSpeed  windBearing  cloudCover  uvIndex  visibility  windGust summary  \\\n",
       "0       4.12        161.0        0.13      0.0       9.988       NaN     NaN   \n",
       "1       3.09        170.0         NaN      0.0       9.988       NaN     NaN   \n",
       "2       2.06        131.0         NaN      0.0       9.988       NaN     NaN   \n",
       "3       2.06        131.0        0.00      0.0         NaN       NaN     NaN   \n",
       "4       2.06        170.0         NaN      0.0         NaN       NaN     NaN   \n",
       "5       3.60        170.0         NaN      0.0         NaN       NaN     NaN   \n",
       "6       2.06        161.0        0.00      0.0         NaN       NaN     NaN   \n",
       "7       2.06        150.0         NaN      NaN         NaN       NaN     NaN   \n",
       "8       0.00          NaN         NaN      NaN         NaN       NaN     NaN   \n",
       "9       1.55        180.0        0.00      2.0         NaN       NaN     NaN   \n",
       "\n",
       "  icon  precipIntensity  precipProbability precipType  ozone  \n",
       "0  NaN              NaN                NaN        NaN    NaN  \n",
       "1  NaN              NaN                NaN        NaN    NaN  \n",
       "2  NaN              NaN                NaN        NaN    NaN  \n",
       "3  NaN              NaN                NaN        NaN    NaN  \n",
       "4  NaN              NaN                NaN        NaN    NaN  \n",
       "5  NaN              NaN                NaN        NaN    NaN  \n",
       "6  NaN              NaN                NaN        NaN    NaN  \n",
       "7  NaN              NaN                NaN        NaN    NaN  \n",
       "8  NaN              NaN                NaN        NaN    NaN  \n",
       "9  NaN              NaN                NaN        NaN    NaN  "
      ]
     },
     "execution_count": 484,
     "metadata": {},
     "output_type": "execute_result"
    }
   ],
   "source": [
    "df_weather.head(10)"
   ]
  },
  {
   "cell_type": "markdown",
   "metadata": {},
   "source": [
    "### Exporting the dataset for further preprocessing"
   ]
  },
  {
   "cell_type": "code",
   "execution_count": 310,
   "metadata": {},
   "outputs": [],
   "source": [
    "# Exporting the weather dataset for further preprocessing\n",
    "df_weather.to_csv('df_weather2012-2018.csv',index=False)\n"
   ]
  },
  {
   "cell_type": "markdown",
   "metadata": {},
   "source": [
    "### Other ways to convert json data to a standard dataframe using json_normalize\n",
    "#### Below code is just for our reference"
   ]
  },
  {
   "cell_type": "code",
   "execution_count": 1,
   "metadata": {},
   "outputs": [],
   "source": [
    "# Another way of coverting json dataset is to normalize it\n",
    "# import json\n",
    "# from pandas.io.json import json_normalize\n",
    "\n",
    "\n",
    "# # parse x:\n",
    "# d=json.loads(temp_decode[0])\n",
    "# d"
   ]
  },
  {
   "cell_type": "code",
   "execution_count": 2,
   "metadata": {},
   "outputs": [],
   "source": [
    "# Converting json dataset to a normal dataframe structure\n",
    "# bb=json_normalize(d['hourly']['data'])\n",
    "# bb"
   ]
  }
 ],
 "metadata": {
  "kernelspec": {
   "display_name": "Python 3",
   "language": "python",
   "name": "python3"
  },
  "language_info": {
   "codemirror_mode": {
    "name": "ipython",
    "version": 3
   },
   "file_extension": ".py",
   "mimetype": "text/x-python",
   "name": "python",
   "nbconvert_exporter": "python",
   "pygments_lexer": "ipython3",
   "version": "3.7.4"
  }
 },
 "nbformat": 4,
 "nbformat_minor": 4
}
